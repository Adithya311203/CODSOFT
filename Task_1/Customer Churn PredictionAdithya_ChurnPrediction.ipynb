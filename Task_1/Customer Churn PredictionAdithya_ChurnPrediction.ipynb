{
  "nbformat": 4,
  "nbformat_minor": 0,
  "metadata": {
    "colab": {
      "provenance": []
    },
    "kernelspec": {
      "name": "python3",
      "display_name": "Python 3"
    },
    "language_info": {
      "name": "python"
    }
  },
  "cells": [
    {
      "cell_type": "code",
      "execution_count": 9,
      "metadata": {
        "id": "QeJYv5VsTIgt"
      },
      "outputs": [],
      "source": [
        "import pandas as pd\n",
        "from sklearn.model_selection import train_test_split\n",
        "from sklearn.ensemble import RandomForestClassifier\n",
        "from sklearn.metrics import accuracy_score, classification_report\n",
        "from sklearn.preprocessing import OneHotEncoder"
      ]
    },
    {
      "cell_type": "code",
      "source": [
        "data = pd.read_csv(\"Churn_Modelling.csv\")"
      ],
      "metadata": {
        "id": "k6kOgCAHTKPP"
      },
      "execution_count": 10,
      "outputs": []
    },
    {
      "cell_type": "code",
      "source": [
        "data = data.drop(columns=['RowNumber', 'CustomerId', 'Surname'])\n"
      ],
      "metadata": {
        "id": "Uw27Nf9WTa9K"
      },
      "execution_count": null,
      "outputs": []
    },
    {
      "cell_type": "code",
      "source": [
        "data = pd.get_dummies(data, columns=['Geography', 'Gender'], drop_first=True)"
      ],
      "metadata": {
        "id": "r_tpZHkuUPbL"
      },
      "execution_count": 15,
      "outputs": []
    },
    {
      "cell_type": "code",
      "source": [
        "X = data.drop(columns=['Exited'])\n",
        "y = data['Exited']"
      ],
      "metadata": {
        "id": "vYsrrDw4TenW"
      },
      "execution_count": 16,
      "outputs": []
    },
    {
      "cell_type": "code",
      "source": [
        "X_train, X_test, y_train, y_test = train_test_split(X, y, test_size=0.2, random_state=42)"
      ],
      "metadata": {
        "id": "p_KdkNUUTpPl"
      },
      "execution_count": 17,
      "outputs": []
    },
    {
      "cell_type": "code",
      "source": [
        "rf_classifier = RandomForestClassifier(n_estimators=100, random_state=42)\n",
        "rf_classifier.fit(X_train, y_train)\n",
        "y_pred = rf_classifier.predict(X_test)"
      ],
      "metadata": {
        "id": "dteS6PPiTq2J"
      },
      "execution_count": 18,
      "outputs": []
    },
    {
      "cell_type": "code",
      "source": [
        "import joblib\n",
        "joblib.dump(rf_classifier, 'customer_churn_model.pkl')"
      ],
      "metadata": {
        "colab": {
          "base_uri": "https://localhost:8080/"
        },
        "id": "Ttt21djSVW4d",
        "outputId": "e6f8521b-1543-4940-dbf0-c9609a4bd703"
      },
      "execution_count": 21,
      "outputs": [
        {
          "output_type": "execute_result",
          "data": {
            "text/plain": [
              "['customer_churn_model.pkl']"
            ]
          },
          "metadata": {},
          "execution_count": 21
        }
      ]
    },
    {
      "cell_type": "code",
      "source": [
        "accuracy = accuracy_score(y_test, y_pred)\n",
        "print(\"Accuracy:\", accuracy*100,\"%\")\n",
        "print(\"Classification Report for my Customer churn model is:\")\n",
        "print(classification_report(y_test, y_pred))"
      ],
      "metadata": {
        "colab": {
          "base_uri": "https://localhost:8080/"
        },
        "id": "qm7Iv1foUVPu",
        "outputId": "82848982-d6ff-4c02-d58e-2ab0af0b2c8a"
      },
      "execution_count": 20,
      "outputs": [
        {
          "output_type": "stream",
          "name": "stdout",
          "text": [
            "Accuracy: 86.65 %\n",
            "Classification Report for my Customer churn model is:\n",
            "              precision    recall  f1-score   support\n",
            "\n",
            "           0       0.88      0.96      0.92      1607\n",
            "           1       0.76      0.47      0.58       393\n",
            "\n",
            "    accuracy                           0.87      2000\n",
            "   macro avg       0.82      0.72      0.75      2000\n",
            "weighted avg       0.86      0.87      0.85      2000\n",
            "\n"
          ]
        }
      ]
    }
  ]
}
